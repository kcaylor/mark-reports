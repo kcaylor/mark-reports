{
  "metadata": {
    "kernelspec": {
      "display_name": "Python 3.6",
      "name": "python36",
      "language": "python"
    },
    "language_info": {
      "mimetype": "text/x-python",
      "nbconvert_exporter": "python",
      "name": "python",
      "pygments_lexer": "ipython3",
      "version": "3.6.6",
      "file_extension": ".py",
      "codemirror_mode": {
        "version": 3,
        "name": "ipython"
      }
    }
  },
  "nbformat_minor": 2,
  "nbformat": 4,
  "cells": [
    {
      "cell_type": "markdown",
      "source": "# Generate Reports\n\nThis notebook will read in the data for an Arable Mark, generate a suite of visual data (i.e. a \"dashboard\" for the Mark) and then export the data and accompanying text as a pdf file suitable for distribution to Mark hosts in Laikipia, Kenya.\n\nThe general workflow will be:\n\n1. Import most recent data for an individual Mark using the Arable API.\n1. Use the plotly library to create climate/vegetation data visualizations.\n1. Export visualizations as .png files for inclusion in the report.\n1. Use Jinja2 templates to create an html version of the report.\n1. Use weasyprint to create a pdf from the html version of the report\n\nAdditional Goals:\n\n1. Since we are making html versions of this report, let's setup a website that can auto-populate this information. The reports might be static, but perhaps through the magic of plotly/dash, we will be able to make them dynamic.\n\n1. Put this site within an Arable app() context, so that this same general system could be used for any Arable domain. This will replicate a lot of the \"functionality\" of the existing JS-based website, but who cares. Web dev is fun.",
      "metadata": {}
    },
    {
      "cell_type": "markdown",
      "source": "## Import data using the Arable API.\n\nFirst we need to setup the environment for our notebook. This requires some imports, etc... and we need to side load the Arable API library via a `!pip` command. There is no need to install Jinja2 because it comes with JupyterLab on Azure.\n",
      "metadata": {}
    },
    {
      "cell_type": "code",
      "source": "!pip install arable",
      "metadata": {
        "trusted": true
      },
      "execution_count": 3,
      "outputs": [
        {
          "text": "Collecting arable\n  Downloading https://files.pythonhosted.org/packages/b7/c8/2964c9858db37398a58ac3ad10208b5907613cc63a1cf9923d73b86f3dad/arable-0.2.dev7.tar.gz\nRequirement already satisfied: requests>=2.12.0 in /home/nbuser/anaconda3_501/lib/python3.6/site-packages (from arable) (2.21.0)\nRequirement already satisfied: certifi>=2017.4.17 in /home/nbuser/anaconda3_501/lib/python3.6/site-packages (from requests>=2.12.0->arable) (2018.10.15)\nRequirement already satisfied: urllib3<1.25,>=1.21.1 in /home/nbuser/anaconda3_501/lib/python3.6/site-packages (from requests>=2.12.0->arable) (1.23)\nRequirement already satisfied: chardet<3.1.0,>=3.0.2 in /home/nbuser/anaconda3_501/lib/python3.6/site-packages (from requests>=2.12.0->arable) (3.0.4)\nRequirement already satisfied: idna<2.9,>=2.5 in /home/nbuser/anaconda3_501/lib/python3.6/site-packages (from requests>=2.12.0->arable) (2.7)\nBuilding wheels for collected packages: arable\n  Building wheel for arable (setup.py) ... \u001b[?25ldone\n\u001b[?25h  Stored in directory: /home/nbuser/.cache/pip/wheels/f6/77/7e/bd4d0e497cdf3fd5a85af5ba57e171b25ebdde30c372735415\nSuccessfully built arable\nInstalling collected packages: arable\nSuccessfully installed arable-0.2.dev7\n\u001b[33mWARNING: You are using pip version 19.1, however version 19.1.1 is available.\nYou should consider upgrading via the 'pip install --upgrade pip' command.\u001b[0m\n",
          "name": "stdout",
          "output_type": "stream"
        }
      ]
    },
    {
      "cell_type": "code",
      "source": "from jinja2 import Template, Environment, FileSystemLoader, select_autoescape\nPATH = '/home/nbuser/library'\nenv = Environment(\n    loader=FileSystemLoader(PATH + '/mark_reports/templates', followlinks=True), # requires library to be added to path\n    autoescape=select_autoescape(['html', 'xml'])\n)",
      "metadata": {
        "trusted": true
      },
      "execution_count": 4,
      "outputs": []
    },
    {
      "cell_type": "markdown",
      "source": "### Setup our credentials\n\n_TODO: How to obscure the credentials in Azure?_\n",
      "metadata": {}
    },
    {
      "cell_type": "code",
      "source": "arable_email = 'caylor@ucsb.edu'\narable_password = 'greenresearch11'\narable_tenant = 'smallholder'\ndevice_name = 'A000706'  # This is the device that we will build a report for. Will be passed eventually\n\nfrom arable.client import *\n\na = ArableClient()\na.connect(arable_email, arable_password, arable_tenant)\n\nd = a.devices(name=device_name)",
      "metadata": {
        "trusted": true
      },
      "execution_count": 5,
      "outputs": []
    },
    {
      "cell_type": "markdown",
      "source": "### Let's get some info on this device.\n\nAt this point, we are going to start putting together material for our report. The device, `d` is just a dictionary, with the following keys: \n\n```python\n['batt_pct', 'batt_volt', 'created', 'firmware', 'flags', 'id', 'last_deploy', 'last_post', 'last_seen', 'location', 'model', 'name', 'org', 'owner', 'permissions', 'reported_fw', 'roles', 'signal_strength', 'state', 'sync_interval', 'updated']\n```\n\nTimestamps in the Arable API look like `2019-06-25T09:21:35.626000`, so `TIME_FORMAT=%Y-%m-%DT%H:%M:%S.%f`\n\nAlso, we will define a couple of custom filters to handle elapsed times (timedeltas) and current time in more human-friendly formats.",
      "metadata": {}
    },
    {
      "cell_type": "code",
      "source": "import datetime\n#from weasyprint import HTML\nTIME_FORMAT=\"%Y-%m-%dT%H:%M:%S.%f\"\ndef elapsed_time(value, format=TIME_FORMAT):\n    # Uses the current time to determine elapsed time since value.\n    # Returns the elapsed time in a human-friendly format string\n    # (e.g. 3 weeks, or 1 day, 10 hours, and 21 minutes)\n    import humanfriendly\n    from datetime import timedelta, datetime\n    return humanfriendly.format_timespan(\n        (datetime.now()-datetime.strptime(value, format)).total_seconds()\n    )\n\ndef format_time(value, format=\"%B %d, %Y\"):\n    # Format datetimes into \"January 10, 2019\" strings\n    return value.strftime(format)\n\n# Append these custom filters to the list of Jinja2 filters:\nenv.filters['elapsed_time'] = elapsed_time\nenv.filters['format_time'] = format_time",
      "metadata": {
        "trusted": true
      },
      "execution_count": 7,
      "outputs": []
    },
    {
      "cell_type": "code",
      "source": "status_template = env.get_template('status.html')\n\n\nstatus_html = status_template.render(\n    date=datetime.datetime.now(),\n    name=d['name'],\n    voltage=d['batt_volt'],\n    pct=d['batt_pct'],\n    state=d['state'],\n    strength=d['signal_strength'],\n    updated=d['updated']\n    )\n\nwith open(\"{name}_status.html\".format(name=d['name']), \"w\") as fh:\n    fh.write(status_html)",
      "metadata": {
        "trusted": true
      },
      "execution_count": 8,
      "outputs": []
    },
    {
      "cell_type": "markdown",
      "source": "### Gather recent data for this device\n\nNow that we have the device and basic information about its status, let's get some data\n",
      "metadata": {}
    },
    {
      "cell_type": "code",
      "source": "",
      "metadata": {},
      "execution_count": null,
      "outputs": []
    }
  ]
}